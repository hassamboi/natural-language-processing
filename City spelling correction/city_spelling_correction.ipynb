{
 "cells": [
  {
   "cell_type": "code",
   "execution_count": null,
   "id": "ffcbc8e8",
   "metadata": {},
   "outputs": [],
   "source": [
    "import numpy as np"
   ]
  },
  {
   "cell_type": "code",
   "execution_count": null,
   "id": "ad7026e9",
   "metadata": {},
   "outputs": [],
   "source": [
    "# import city data from the file\n",
    "cities = np.genfromtxt(\"city_data.csv\", delimiter=',', dtype = None, encoding = 'ascii')"
   ]
  },
  {
   "cell_type": "code",
   "execution_count": null,
   "id": "bf502ae9",
   "metadata": {},
   "outputs": [],
   "source": [
    "def recursiveEditDistance(source, target, slen, tlen):\n",
    "    if slen == 0:\n",
    "        return tlen\n",
    "    if tlen == 0:\n",
    "        return slen\n",
    "    if source[slen - 1] == target[tlen - 1]:\n",
    "        return recursiveEditDistance(source, target, slen - 1, tlen - 1)\n",
    "    return min(recursiveEditDistance(source, target, slen, tlen - 1) + 1,\n",
    "              recursiveEditDistance(source, target, slen - 1, tlen) + 1,\n",
    "                recursiveEditDistance(source, target, slen - 1, tlen - 1) + 2)"
   ]
  },
  {
   "cell_type": "code",
   "execution_count": null,
   "id": "ee98e425",
   "metadata": {},
   "outputs": [],
   "source": [
    "# get closest matching city using the edit distance\n",
    "def get_closest_match(input_city):\n",
    "    min_edit_distance, result = 99999, ''\n",
    "\n",
    "    # loop through all the cities to find the closest match\n",
    "    for city in cities:\n",
    "        curr_edit_distance = recursiveEditDistance(input_city, city.lower(), len(input_city), len(city))\n",
    "        \n",
    "        if(curr_edit_distance <= min_edit_distance):\n",
    "            min_edit_distance = curr_edit_distance\n",
    "            result = city\n",
    "            \n",
    "    return result"
   ]
  },
  {
   "cell_type": "code",
   "execution_count": null,
   "id": "d78dfab5",
   "metadata": {},
   "outputs": [],
   "source": [
    "# get input from user to search for a city\n",
    "user_city = input()\n",
    "\n",
    "# if input is correct, print found\n",
    "if(len(np.where(cities == user_city.lower())[0])):\n",
    "    print('found')\n",
    "else:\n",
    "    closest_city = get_closest_match(user_city.lower())\n",
    "    print('did you mean ' + closest_city)"
   ]
  },
  {
   "cell_type": "code",
   "execution_count": null,
   "id": "b4c87a85",
   "metadata": {},
   "outputs": [],
   "source": []
  }
 ],
 "metadata": {
  "kernelspec": {
   "display_name": "Python 3 (ipykernel)",
   "language": "python",
   "name": "python3"
  },
  "language_info": {
   "codemirror_mode": {
    "name": "ipython",
    "version": 3
   },
   "file_extension": ".py",
   "mimetype": "text/x-python",
   "name": "python",
   "nbconvert_exporter": "python",
   "pygments_lexer": "ipython3",
   "version": "3.9.7"
  }
 },
 "nbformat": 4,
 "nbformat_minor": 5
}
